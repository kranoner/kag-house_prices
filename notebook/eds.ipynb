{
 "cells": [
  {
   "cell_type": "markdown",
   "metadata": {},
   "source": [
    "## House Prices - Advanced Regression Techniques\n",
    "The notebook will present an exploratory data analysis of the dataset House Prices"
   ]
  },
  {
   "cell_type": "code",
   "execution_count": null,
   "metadata": {},
   "outputs": [],
   "source": [
    "import pandas as pd\n",
    "import seaborn as sns\n",
    "\n",
    "house_train_df = pd.read_csv(filepath_or_buffer=\"../data/raw_data/train.csv\")\n",
    "\n",
    "house_train_df.head()"
   ]
  },
  {
   "cell_type": "code",
   "execution_count": null,
   "metadata": {},
   "outputs": [],
   "source": [
    "house_train_df.shape"
   ]
  },
  {
   "cell_type": "code",
   "execution_count": null,
   "metadata": {},
   "outputs": [],
   "source": [
    "## columns with na values\n",
    "nacolumns = house_train_df.isna().any()\n",
    "print (nacolumns[nacolumns])"
   ]
  },
  {
   "cell_type": "code",
   "execution_count": null,
   "metadata": {},
   "outputs": [],
   "source": [
    "# remove id column\n",
    "house_train_df = house_train_df.drop(columns=\"Id\")"
   ]
  },
  {
   "cell_type": "code",
   "execution_count": null,
   "metadata": {},
   "outputs": [],
   "source": [
    "# distribution of house price\n",
    "house_train_df['SalePrice'].hist(figsize=(4, 4), bins=50, xlabelsize=8, ylabelsize=8)"
   ]
  },
  {
   "cell_type": "code",
   "execution_count": null,
   "metadata": {},
   "outputs": [],
   "source": [
    "# Numerical data\n",
    "df_num = house_train_df.select_dtypes(include = ['float64', 'int64'])\n"
   ]
  },
  {
   "cell_type": "code",
   "execution_count": null,
   "metadata": {},
   "outputs": [],
   "source": [
    "df_num.head()"
   ]
  },
  {
   "cell_type": "code",
   "execution_count": null,
   "metadata": {},
   "outputs": [],
   "source": [
    "# histograms to show distributions of numerical data\n",
    "df_num.hist(figsize=(16, 20), bins=50, xlabelsize=8, ylabelsize=8);"
   ]
  },
  {
   "cell_type": "markdown",
   "metadata": {},
   "source": [
    "List of columns where NA means no feature available, information available\n",
    "- Alley NA =>> no alley\n",
    "- BsmtQual NA =>> no basement\n",
    "- BsmtCond NA =>> no basement (Shall we check that BsmtCond is consistent with BsmtQual?)\n",
    "- BsmtFinType1\n",
    "- BsmtFinType2\n",
    "- BsmtExposure => no exposure\n",
    "- FireplaceQu\n",
    "- GarageType\n",
    "- GarageFinish\n",
    "- GarageQual\n",
    "- GarageCond\n",
    "- PoolQC\n",
    "- Fence\n",
    "- MiscFeature\n",
    "\n",
    "List of columns where na means no information available\n",
    "- LotFrontage\n",
    "- Electrical\n",
    "- MasVnrArea\n",
    "- GarageYrBlt"
   ]
  },
  {
   "cell_type": "code",
   "execution_count": null,
   "metadata": {},
   "outputs": [],
   "source": [
    "## replace na with mean\n",
    "house_train_df['LotFrontage'].fillna(house_train_df['LotFrontage'].mean(), inplace = True)\n",
    "house_train_df['MasVnrArea'].fillna(house_train_df['MasVnrArea'].mean(), inplace = True)\n",
    "nacolumns = house_train_df.isna().any()\n",
    "print (nacolumns[nacolumns])\n",
    "\n"
   ]
  },
  {
   "cell_type": "code",
   "execution_count": null,
   "metadata": {},
   "outputs": [],
   "source": [
    "## The remaining columns including NA are real NAs. Hot encoding of the remaining columns\n",
    "\n",
    "#print(house_train_df.shape)\n",
    "#for col in house_train_df.columns[nacolumns]:\n",
    "#    house_train_df = pd.concat([house_train_df, pd.get_dummies(house_train_df[col], dummy_na=True, prefix=col)],axis=1)\n",
    "#\n",
    "print(house_train_df.shape)\n"
   ]
  },
  {
   "cell_type": "code",
   "execution_count": null,
   "metadata": {},
   "outputs": [],
   "source": [
    "\n",
    "house_train_df.describe()\n",
    "house_train_df.head()"
   ]
  },
  {
   "cell_type": "markdown",
   "metadata": {},
   "source": [
    "# Let's move to the model training\n"
   ]
  },
  {
   "cell_type": "code",
   "execution_count": null,
   "metadata": {},
   "outputs": [],
   "source": [
    "# split of data into training and test set\n",
    "from sklearn.model_selection import train_test_split\n",
    "\n",
    "train, test= train_test_split(df_num, test_size= 0.25, random_state = 42) \n"
   ]
  },
  {
   "cell_type": "markdown",
   "metadata": {},
   "source": [
    "### We will try XGBoost\n",
    "no need to feature scaling with xgboost"
   ]
  },
  {
   "cell_type": "code",
   "execution_count": null,
   "metadata": {},
   "outputs": [],
   "source": [
    "import xgboost as xgb\n",
    "\n",
    "model = xgb.XGBRegressor(objective ='reg:squarederror', learning_rate = 0.1, max_depth = 30, n_estimators = 100)\n",
    "\n",
    "X_train = train.drop(columns = ['SalePrice'])\n",
    "X_test =  test.drop(columns =  ['SalePrice'])\n",
    "\n",
    "y_train = train['SalePrice']\n",
    "y_test =  test['SalePrice']\n",
    "\n",
    "model.fit(train.drop(columns = ['SalePrice']), train['SalePrice'])"
   ]
  },
  {
   "cell_type": "code",
   "execution_count": null,
   "metadata": {},
   "outputs": [],
   "source": [
    "result = model.score(X_test, y_test)\n",
    "print(\"Accuracy : {}\".format(result))"
   ]
  }
 ],
 "metadata": {
  "kernelspec": {
   "display_name": "Python 3",
   "language": "python",
   "name": "python3"
  },
  "language_info": {
   "codemirror_mode": {
    "name": "ipython",
    "version": 3
   },
   "file_extension": ".py",
   "mimetype": "text/x-python",
   "name": "python",
   "nbconvert_exporter": "python",
   "pygments_lexer": "ipython3",
   "version": "3.11.2"
  }
 },
 "nbformat": 4,
 "nbformat_minor": 2
}
